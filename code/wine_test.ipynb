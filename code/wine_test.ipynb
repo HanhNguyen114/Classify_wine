{
 "cells": [
  {
   "cell_type": "code",
   "execution_count": null,
   "metadata": {},
   "outputs": [],
   "source": [
    "Name: Hanh Nguyen\n",
    "File: Wine Test"
   ]
  },
  {
   "cell_type": "code",
   "execution_count": null,
   "metadata": {},
   "outputs": [],
   "source": [
    "%load_ext autoreload\n",
    "%autoreload 2"
   ]
  },
  {
   "cell_type": "code",
   "execution_count": 1,
   "metadata": {},
   "outputs": [],
   "source": [
    "import numpy as np\n",
    "from sklearn import metrics\n",
    "from sklearn.metrics import f1_score, accuracy_score\n",
    "from scripts import classify_wine\n",
    "\n",
    "import pandas as pd\n",
    "import matplotlib.pyplot as plt\n",
    "import seaborn as sns\n",
    "import re\n",
    "import itertools\n",
    "import warnings\n",
    "import string\n",
    "from sklearn.feature_extraction.text import CountVectorizer\n",
    "from sklearn.model_selection import train_test_split\n",
    "from sklearn.linear_model import LogisticRegression, LogisticRegressionCV\n",
    "from sklearn.metrics import accuracy_score,confusion_matrix\n",
    "\n",
    "warnings.filterwarnings('ignore')"
   ]
  },
  {
   "cell_type": "code",
   "execution_count": 2,
   "metadata": {},
   "outputs": [],
   "source": [
    "np.random.seed(42)"
   ]
  },
  {
   "cell_type": "markdown",
   "metadata": {},
   "source": [
    "First, I'll explore the dataset Wine Review as the first part in this test file. In the second part, I will preprocess the data and build a classifier to predict the wine quality."
   ]
  },
  {
   "cell_type": "markdown",
   "metadata": {},
   "source": [
    "# Exploratory Data Analysis"
   ]
  },
  {
   "cell_type": "markdown",
   "metadata": {},
   "source": [
    "Reading the dataset and use pandas to convert it to a dataframe to analyze"
   ]
  },
  {
   "cell_type": "code",
   "execution_count": 12,
   "metadata": {},
   "outputs": [
    {
     "name": "stdout",
     "output_type": "stream",
     "text": [
      "<class 'pandas.core.frame.DataFrame'>\n",
      "RangeIndex: 150930 entries, 0 to 150929\n",
      "Data columns (total 11 columns):\n",
      "Unnamed: 0     150930 non-null int64\n",
      "country        150925 non-null object\n",
      "description    150930 non-null object\n",
      "designation    105195 non-null object\n",
      "points         150930 non-null int64\n",
      "price          137235 non-null float64\n",
      "province       150925 non-null object\n",
      "region_1       125870 non-null object\n",
      "region_2       60953 non-null object\n",
      "variety        150930 non-null object\n",
      "winery         150930 non-null object\n",
      "dtypes: float64(1), int64(2), object(8)\n",
      "memory usage: 12.7+ MB\n"
     ]
    }
   ],
   "source": [
    "data = pd.read_csv(\"scripts/data/winemag-data_first150k.csv\", index_col = False)\n",
    "data.describe()\n",
    "data.info()"
   ]
  },
  {
   "cell_type": "code",
   "execution_count": 28,
   "metadata": {},
   "outputs": [
    {
     "data": {
      "text/html": [
       "<div>\n",
       "<style scoped>\n",
       "    .dataframe tbody tr th:only-of-type {\n",
       "        vertical-align: middle;\n",
       "    }\n",
       "\n",
       "    .dataframe tbody tr th {\n",
       "        vertical-align: top;\n",
       "    }\n",
       "\n",
       "    .dataframe thead th {\n",
       "        text-align: right;\n",
       "    }\n",
       "</style>\n",
       "<table border=\"1\" class=\"dataframe\">\n",
       "  <thead>\n",
       "    <tr style=\"text-align: right;\">\n",
       "      <th></th>\n",
       "      <th>Unnamed: 0</th>\n",
       "      <th>country</th>\n",
       "      <th>description</th>\n",
       "      <th>designation</th>\n",
       "      <th>points</th>\n",
       "      <th>price</th>\n",
       "      <th>province</th>\n",
       "      <th>region_1</th>\n",
       "      <th>region_2</th>\n",
       "      <th>variety</th>\n",
       "      <th>winery</th>\n",
       "      <th>rating</th>\n",
       "    </tr>\n",
       "  </thead>\n",
       "  <tbody>\n",
       "    <tr>\n",
       "      <td>132042</td>\n",
       "      <td>132042</td>\n",
       "      <td>France</td>\n",
       "      <td>Soft, rounded, a wine that is both fresh and o...</td>\n",
       "      <td>NaN</td>\n",
       "      <td>88</td>\n",
       "      <td>55.0</td>\n",
       "      <td>Bordeaux</td>\n",
       "      <td>Saint-Julien</td>\n",
       "      <td>NaN</td>\n",
       "      <td>Bordeaux-style Red Blend</td>\n",
       "      <td>Château Beychevelle</td>\n",
       "      <td>2</td>\n",
       "    </tr>\n",
       "    <tr>\n",
       "      <td>131685</td>\n",
       "      <td>131685</td>\n",
       "      <td>France</td>\n",
       "      <td>94-96 Barrel sample. A powerful, rich wine, bu...</td>\n",
       "      <td>Barrel sample</td>\n",
       "      <td>95</td>\n",
       "      <td>NaN</td>\n",
       "      <td>Bordeaux</td>\n",
       "      <td>Saint-Émilion</td>\n",
       "      <td>NaN</td>\n",
       "      <td>Bordeaux-style Red Blend</td>\n",
       "      <td>Château Valandraud</td>\n",
       "      <td>4</td>\n",
       "    </tr>\n",
       "    <tr>\n",
       "      <td>63856</td>\n",
       "      <td>63856</td>\n",
       "      <td>Australia</td>\n",
       "      <td>The aromas alone are worth the price: black cu...</td>\n",
       "      <td>NaN</td>\n",
       "      <td>90</td>\n",
       "      <td>18.0</td>\n",
       "      <td>South Australia</td>\n",
       "      <td>McLaren Vale</td>\n",
       "      <td>NaN</td>\n",
       "      <td>Cabernet Sauvignon</td>\n",
       "      <td>Simon Hackett</td>\n",
       "      <td>3</td>\n",
       "    </tr>\n",
       "    <tr>\n",
       "      <td>120783</td>\n",
       "      <td>120783</td>\n",
       "      <td>US</td>\n",
       "      <td>A good, deliciously rich Syrah, although a bit...</td>\n",
       "      <td>The Brawler</td>\n",
       "      <td>88</td>\n",
       "      <td>36.0</td>\n",
       "      <td>California</td>\n",
       "      <td>Calaveras County</td>\n",
       "      <td>Sierra Foothills</td>\n",
       "      <td>Syrah</td>\n",
       "      <td>Prospect 772</td>\n",
       "      <td>2</td>\n",
       "    </tr>\n",
       "    <tr>\n",
       "      <td>13547</td>\n",
       "      <td>13547</td>\n",
       "      <td>US</td>\n",
       "      <td>Rich and dry, this has pleasant cherry, red cu...</td>\n",
       "      <td>Durant Ranch Vineyards</td>\n",
       "      <td>86</td>\n",
       "      <td>15.0</td>\n",
       "      <td>California</td>\n",
       "      <td>California</td>\n",
       "      <td>California Other</td>\n",
       "      <td>Merlot</td>\n",
       "      <td>Five Rows</td>\n",
       "      <td>1</td>\n",
       "    </tr>\n",
       "  </tbody>\n",
       "</table>\n",
       "</div>"
      ],
      "text/plain": [
       "        Unnamed: 0    country  \\\n",
       "132042      132042     France   \n",
       "131685      131685     France   \n",
       "63856        63856  Australia   \n",
       "120783      120783         US   \n",
       "13547        13547         US   \n",
       "\n",
       "                                              description  \\\n",
       "132042  Soft, rounded, a wine that is both fresh and o...   \n",
       "131685  94-96 Barrel sample. A powerful, rich wine, bu...   \n",
       "63856   The aromas alone are worth the price: black cu...   \n",
       "120783  A good, deliciously rich Syrah, although a bit...   \n",
       "13547   Rich and dry, this has pleasant cherry, red cu...   \n",
       "\n",
       "                   designation  points  price         province  \\\n",
       "132042                     NaN      88   55.0         Bordeaux   \n",
       "131685           Barrel sample      95    NaN         Bordeaux   \n",
       "63856                      NaN      90   18.0  South Australia   \n",
       "120783             The Brawler      88   36.0       California   \n",
       "13547   Durant Ranch Vineyards      86   15.0       California   \n",
       "\n",
       "                region_1          region_2                   variety  \\\n",
       "132042      Saint-Julien               NaN  Bordeaux-style Red Blend   \n",
       "131685     Saint-Émilion               NaN  Bordeaux-style Red Blend   \n",
       "63856       McLaren Vale               NaN        Cabernet Sauvignon   \n",
       "120783  Calaveras County  Sierra Foothills                     Syrah   \n",
       "13547         California  California Other                    Merlot   \n",
       "\n",
       "                     winery  rating  \n",
       "132042  Château Beychevelle       2  \n",
       "131685   Château Valandraud       4  \n",
       "63856         Simon Hackett       3  \n",
       "120783         Prospect 772       2  \n",
       "13547             Five Rows       1  "
      ]
     },
     "execution_count": 28,
     "metadata": {},
     "output_type": "execute_result"
    }
   ],
   "source": [
    "# Exploring some random instances of this dataset\n",
    "indices = np.arange(data.shape[0])\n",
    "np.random.shuffle(indices)\n",
    "data.iloc[indices].head()"
   ]
  },
  {
   "cell_type": "markdown",
   "metadata": {},
   "source": [
    "## Columns and their descriptions\n",
    "Country: the country where the wine is from.\n",
    "\n",
    "Description: a few sentences from a sommelier describing the wine’s taste, smell, look, feel, etc.\n",
    "\n",
    "Designation: the vineyard within the winery where the grapes that made the wine are from.\n",
    "\n",
    "Variety: the type of grapes used to make the wine (ie Riesling)\n",
    "\n",
    "Points: the number of points WineEnthusiast rated the wine on a scale of 1–100 (though they say they only post reviews for wines that score >=80)\n",
    "\n",
    "Price: the cost for a bottle of the wine.\n",
    "\n",
    "Province: the province or state that the wine is from.\n",
    "\n",
    "Region_1: the wine growing area in a province or state .\n",
    "\n",
    "Region_2: sometimes there are more specific regions specified within a wine growing area (ie Rutherford inside the Napa Valley).\n",
    "\n",
    "Winery: the winery that made the wine"
   ]
  },
  {
   "cell_type": "code",
   "execution_count": 45,
   "metadata": {},
   "outputs": [
    {
     "data": {
      "text/plain": [
       "Unnamed: 0      0.000000\n",
       "country         0.003313\n",
       "description     0.000000\n",
       "designation    30.302127\n",
       "points          0.000000\n",
       "price           9.073743\n",
       "province        0.003313\n",
       "region_1       16.603724\n",
       "region_2       59.615053\n",
       "variety         0.000000\n",
       "winery          0.000000\n",
       "dtype: float64"
      ]
     },
     "execution_count": 45,
     "metadata": {},
     "output_type": "execute_result"
    }
   ],
   "source": [
    "# Counting null values and NA\n",
    "def count_null(df):\n",
    "    return df.isna().sum()\n",
    "\n",
    "def null_per(df):\n",
    "    return count_null(df)*100/len(df)\n",
    "\n",
    "count_null(data)\n",
    "null_per(data)"
   ]
  },
  {
   "cell_type": "code",
   "execution_count": 46,
   "metadata": {},
   "outputs": [
    {
     "name": "stdout",
     "output_type": "stream",
     "text": [
      "country 48\n",
      "description 97821\n",
      "designation 30621\n",
      "points 21\n",
      "price 357\n",
      "province 455\n",
      "region_1 1236\n",
      "region_2 18\n",
      "variety 632\n",
      "winery 14810\n"
     ]
    }
   ],
   "source": [
    "# Number of unique values in each column\n",
    "for i in data.columns[1:]:\n",
    "    print(i, data[i].nunique())"
   ]
  },
  {
   "cell_type": "code",
   "execution_count": 29,
   "metadata": {},
   "outputs": [
    {
     "data": {
      "text/plain": [
       "Text(0, 0.5, 'Frequency')"
      ]
     },
     "execution_count": 29,
     "metadata": {},
     "output_type": "execute_result"
    },
    {
     "data": {
      "image/png": "[encoded data removed]",
      "text/plain": [
       "<Figure size 576x504 with 1 Axes>"
      ]
     },
     "metadata": {
      "needs_background": "light"
     },
     "output_type": "display_data"
    }
   ],
   "source": [
    "# Visualization: Distribution/Frequency of Points over five categories\n",
    "plt.figure(figsize=(8,7))\n",
    "sns.distplot(data['points'],color='red')\n",
    "plt.title('Distribution of review points')\n",
    "plt.xlabel('Points')\n",
    "plt.ylabel('Frequency')"
   ]
  },
  {
   "cell_type": "code",
   "execution_count": 14,
   "metadata": {},
   "outputs": [],
   "source": [
    "def points_to_class(points):\n",
    "    if points in range(80,83):\n",
    "        return 0\n",
    "    elif points in range(83,87):\n",
    "        return 1\n",
    "    elif points in range(87,90):\n",
    "        return 2\n",
    "    elif points in range(90,94):\n",
    "        return 3\n",
    "    else:\n",
    "        return 4\n",
    "    \n",
    "data[\"rating\"] = data[\"points\"].apply(points_to_class)"
   ]
  },
  {
   "cell_type": "markdown",
   "metadata": {},
   "source": [
    "### Counting numbers of classes"
   ]
  },
  {
   "cell_type": "code",
   "execution_count": 61,
   "metadata": {},
   "outputs": [
    {
     "name": "stdout",
     "output_type": "stream",
     "text": [
      "Class 0 has 6441 reviews, which is rougly 4.3%\n",
      "Class 1 has 44740 reviews, which is rougly 29.6%\n",
      "Class 2 has 51539 reviews, which is rougly 34.1%\n",
      "Class 3 has 41767 reviews, which is rougly 27.7%\n",
      "Class 4 has 6443 reviews, which is rougly 4.3%\n"
     ]
    }
   ],
   "source": [
    "sample_size = data.shape[0]\n",
    "for i in range(0,5):\n",
    "    x = data[data[\"rating\"]==i].shape[0]\n",
    "    p = x/sample_size\n",
    "    print(\"Class {} has {} reviews, which is rougly {:.1%}\".format(i,x,p))"
   ]
  },
  {
   "cell_type": "markdown",
   "metadata": {},
   "source": [
    "Based on the above distribution of classes, it is clearly that these are not balanced classes. It makes sense somehow as superb wines are rarer and therefore the number of reviews in this class is almost small. Weight per class is needed to reflect the nature of this type of dataset. The following weights for classes would be used in training the classifier:\n",
    "\n",
    "Weight for class 0 = 7\n",
    "\n",
    "Weight for class 1 = 1\n",
    "\n",
    "Weight for class 2 = 1\n",
    "\n",
    "Weight for class 3 = 1\n",
    "\n",
    "Weight for class 4 = 7\n"
   ]
  },
  {
   "cell_type": "markdown",
   "metadata": {},
   "source": [
    "### Visualization: Word Occurence in Review"
   ]
  },
  {
   "cell_type": "code",
   "execution_count": 60,
   "metadata": {},
   "outputs": [
    {
     "data": {
      "image/png": "[encoded data removed]",
      "text/plain": [
       "<Figure size 432x288 with 1 Axes>"
      ]
     },
     "metadata": {
      "needs_background": "light"
     },
     "output_type": "display_data"
    }
   ],
   "source": [
    "occurrence = data[\"description\"].str.split(expand=True).stack().value_counts()\n",
    "\n",
    "total = sum(occurrence)\n",
    "\n",
    "# plot the most 20 common words \n",
    "\n",
    "top = occurrence[:20]/total\n",
    "\n",
    "ax = sns.barplot(x = top.values, y = top.index)\n",
    "\n",
    "# Setting title \n",
    "ax.set_title(\"% Most Frequent Words\")\n",
    "\n",
    "plt.show()"
   ]
  },
  {
   "cell_type": "markdown",
   "metadata": {},
   "source": [
    "As one can see in the above plot, some stopwords appear in the list of most frequent words and clearly, these stopwords would not provide useful information. So removing stopwords is critical as it would help to improve the training models later. A preprocessing step is necessary and it is written in the file classify_wine.py. "
   ]
  },
  {
   "cell_type": "markdown",
   "metadata": {},
   "source": [
    "# Prediction function."
   ]
  },
  {
   "cell_type": "code",
   "execution_count": 3,
   "metadata": {},
   "outputs": [],
   "source": [
    "def test_prediction(class_weight,path=\"scripts/data/winemag-data_first150k.csv\",\n",
    "                    features_col=\"description\",\n",
    "                    target_col=\"points\",\n",
    "                    test_size=0.05,cv=5,random_state=42,ngram=(1,1),solver='sag'):\n",
    "    # split dataset, then preprocessing texts for train set and development set\n",
    "    dataset = classify_wine.DataToSeries(path,features_col,target_col, \n",
    "                                         test_size = test_size, random_state=random_state)\n",
    "    raw_train_features, devel_features, raw_train_targets, raw_devel_targets = dataset\n",
    "    train_features = classify_wine.preprocess_features(raw_train_features)\n",
    "    train_targets = classify_wine.preprocess_targets(raw_train_targets)\n",
    "    devel_targets = classify_wine.preprocess_targets(raw_devel_targets)    \n",
    "\n",
    "    # create the feature extractor \n",
    "    to_features = classify_wine.TextToFeatures(train_features,ngram_range = ngram)\n",
    "\n",
    "    # train the classifier on the training data\n",
    "    classifier = classify_wine.Classifier(cv=cv, random_state = random_state, class_weight = class_weight, solver = solver)\n",
    "    features = to_features(train_features)\n",
    "    devel = to_features(devel_features)\n",
    "    classifier.train(features, train_targets)\n",
    "\n",
    "    # make predictions on the development data\n",
    "    predicted_indices = classifier.predict(devel)\n",
    "    \n",
    "    return devel_targets, predicted_indices\n",
    "    \n"
   ]
  },
  {
   "cell_type": "code",
   "execution_count": 5,
   "metadata": {},
   "outputs": [],
   "source": [
    "class_weight = {0: 7,1: 1,2: 1, 3: 1,4: 7}  "
   ]
  },
  {
   "cell_type": "code",
   "execution_count": 31,
   "metadata": {},
   "outputs": [],
   "source": [
    "# We test with unigrams first.\n",
    "devel_targets, predicted_indices = test_prediction(class_weight=class_weight)"
   ]
  },
  {
   "cell_type": "code",
   "execution_count": 37,
   "metadata": {},
   "outputs": [
    {
     "name": "stdout",
     "output_type": "stream",
     "text": [
      "\n",
      "72.1% accuracy on the development data\n"
     ]
    }
   ],
   "source": [
    "# measure performance of predictions for unigram model\n",
    "accuracy = accuracy_score(devel_targets, predicted_indices)\n",
    "\n",
    "print(f\"\\n{accuracy:.1%} accuracy on the development data\")"
   ]
  },
  {
   "cell_type": "code",
   "execution_count": 36,
   "metadata": {},
   "outputs": [
    {
     "name": "stdout",
     "output_type": "stream",
     "text": [
      "              precision    recall  f1-score   support\n",
      "\n",
      "           0      0.639     0.769     0.698       329\n",
      "           1      0.783     0.738     0.760      2326\n",
      "           2      0.686     0.691     0.689      2504\n",
      "           3      0.745     0.727     0.736      2036\n",
      "           4      0.583     0.736     0.651       352\n",
      "\n",
      "   micro avg      0.721     0.721     0.721      7547\n",
      "   macro avg      0.687     0.732     0.707      7547\n",
      "weighted avg      0.725     0.721     0.722      7547\n",
      "\n"
     ]
    }
   ],
   "source": [
    "# Print the precision and recall, among other metrics for unigram model\n",
    "    \n",
    "print(metrics.classification_report(devel_targets, predicted_indices, digits=3))"
   ]
  },
  {
   "cell_type": "code",
   "execution_count": 34,
   "metadata": {},
   "outputs": [
    {
     "data": {
      "image/png": "[encoded data removed]",
      "text/plain": [
       "<Figure size 432x288 with 2 Axes>"
      ]
     },
     "metadata": {
      "needs_background": "light"
     },
     "output_type": "display_data"
    }
   ],
   "source": [
    "# Visualize the corresponding confusion matrix for unigram model\n",
    "from sklearn.metrics import confusion_matrix\n",
    "\n",
    "cm = confusion_matrix(devel_targets, predicted_indices)\n",
    "cm = cm.astype('float') / cm.sum(axis=1)[:, np.newaxis]\n",
    "\n",
    "plt.imshow(cm, interpolation='nearest', cmap=plt.cm.Greens)\n",
    "\n",
    "class_name = [\"Acceptable\", \"Good\", \"Very Good\", \"Excellent\", \"Superb\"]\n",
    "\n",
    "plt.colorbar()\n",
    "tick_marks = np.arange(len(class_name))\n",
    "plt.xticks(tick_marks, class_name, rotation=45)\n",
    "plt.yticks(tick_marks, class_name)\n",
    "\n",
    "plt.show()"
   ]
  },
  {
   "cell_type": "code",
   "execution_count": 35,
   "metadata": {},
   "outputs": [
    {
     "name": "stdout",
     "output_type": "stream",
     "text": [
      "[[ 253   70    6    0    0]\n",
      " [ 124 1717  416   64    5]\n",
      " [  14  361 1731  359   39]\n",
      " [   5   46  363 1481  141]\n",
      " [   0    0    8   85  259]]\n"
     ]
    }
   ],
   "source": [
    "# Print the confusion matrix for unigram model\n",
    "    \n",
    "print(metrics.confusion_matrix(devel_targets, predicted_indices))"
   ]
  },
  {
   "cell_type": "code",
   "execution_count": 6,
   "metadata": {},
   "outputs": [
    {
     "name": "stdout",
     "output_type": "stream",
     "text": [
      "\n",
      "84.3% accuracy on the development data with bigrams\n"
     ]
    }
   ],
   "source": [
    "# In this part, we will try bigram instead of unigram.\n",
    "devel_targets_2, predicted_indices_2 = test_prediction(class_weight=class_weight, ngram = (1,2))\n",
    "accuracy = accuracy_score(devel_targets_2, predicted_indices_2)\n",
    "\n",
    "print(f\"\\n{accuracy:.1%} accuracy on the development data with bigrams\")"
   ]
  },
  {
   "cell_type": "code",
   "execution_count": 7,
   "metadata": {},
   "outputs": [
    {
     "name": "stdout",
     "output_type": "stream",
     "text": [
      "              precision    recall  f1-score   support\n",
      "\n",
      "           0      0.795     0.815     0.805       329\n",
      "           1      0.873     0.862     0.867      2326\n",
      "           2      0.821     0.831     0.826      2504\n",
      "           3      0.842     0.860     0.851      2036\n",
      "           4      0.854     0.733     0.789       352\n",
      "\n",
      "   micro avg      0.843     0.843     0.843      7547\n",
      "   macro avg      0.837     0.820     0.828      7547\n",
      "weighted avg      0.843     0.843     0.843      7547\n",
      "\n"
     ]
    }
   ],
   "source": [
    "# Metric classification report for bigram model\n",
    "print(metrics.classification_report(devel_targets_2, predicted_indices_2, digits=3))"
   ]
  },
  {
   "cell_type": "code",
   "execution_count": 9,
   "metadata": {},
   "outputs": [
    {
     "name": "stdout",
     "output_type": "stream",
     "text": [
      "Confusion matrix for bigram model\n",
      "[[ 268   59    2    0    0]\n",
      " [  65 2004  228   27    2]\n",
      " [   3  207 2082  208    4]\n",
      " [   1   25  222 1750   38]\n",
      " [   0    0    1   93  258]]\n"
     ]
    }
   ],
   "source": [
    "# Print the confusion matrix for bigram model\n",
    "print(\"Confusion matrix for bigram model\")    \n",
    "print(metrics.confusion_matrix(devel_targets_2, predicted_indices_2))"
   ]
  },
  {
   "cell_type": "code",
   "execution_count": 10,
   "metadata": {},
   "outputs": [
    {
     "data": {
      "image/png": "[encoded data removed]",
      "text/plain": [
       "<Figure size 432x288 with 2 Axes>"
      ]
     },
     "metadata": {
      "needs_background": "light"
     },
     "output_type": "display_data"
    }
   ],
   "source": [
    "# Visualize the corresponding confusion matrix of bigram model\n",
    "cm = confusion_matrix(devel_targets_2, predicted_indices_2)\n",
    "cm = cm.astype('float') / cm.sum(axis=1)[:, np.newaxis]\n",
    "\n",
    "plt.imshow(cm, interpolation='nearest', cmap=plt.cm.Greens)\n",
    "\n",
    "class_name = [\"Acceptable\", \"Good\", \"Very Good\", \"Excellent\", \"Superb\"]\n",
    "\n",
    "plt.colorbar()\n",
    "tick_marks = np.arange(len(class_name))\n",
    "plt.xticks(tick_marks, class_name, rotation=45)\n",
    "plt.yticks(tick_marks, class_name)\n",
    "\n",
    "plt.show()"
   ]
  },
  {
   "cell_type": "markdown",
   "metadata": {},
   "source": [
    "Conclusion. Bigram model works better than unigram model. Cross Validation is necessary. From the confusion matrices, it seems that the models predict the classes of good, very good, excellent wines very well."
   ]
  }
 ],
 "metadata": {
  "kernelspec": {
   "display_name": "Python 3",
   "language": "python",
   "name": "python3"
  },
  "language_info": {
   "codemirror_mode": {
    "name": "ipython",
    "version": 3
   },
   "file_extension": ".py",
   "mimetype": "text/x-python",
   "name": "python",
   "nbconvert_exporter": "python",
   "pygments_lexer": "ipython3",
   "version": "3.7.3"
  }
 },
 "nbformat": 4,
 "nbformat_minor": 2
}
